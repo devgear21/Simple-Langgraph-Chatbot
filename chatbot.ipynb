{
 "cells": [
  {
   "cell_type": "code",
   "execution_count": 10,
   "id": "4b9c6b9f",
   "metadata": {},
   "outputs": [],
   "source": [
    "from langgraph.graph import StateGraph, END\n",
    "from langchain_core.messages import HumanMessage, SystemMessage, AIMessage\n",
    "from langchain_openai import ChatOpenAI \n",
    "from typing import TypedDict, List"
   ]
  },
  {
   "cell_type": "code",
   "execution_count": 11,
   "id": "654539f7",
   "metadata": {},
   "outputs": [],
   "source": [
    "#Define the state schema\n",
    "class ChatState(TypedDict):\n",
    "    messages: List  # list of HumanMessage, SystemMessage, AIMessage"
   ]
  },
  {
   "cell_type": "code",
   "execution_count": 12,
   "id": "aa993f60",
   "metadata": {},
   "outputs": [],
   "source": [
    "#Define user input node\n",
    "def input_node(state):\n",
    "    return state\n"
   ]
  },
  {
   "cell_type": "code",
   "execution_count": null,
   "id": "a403a778",
   "metadata": {},
   "outputs": [],
   "source": [
    "from langchain_groq import ChatGroq\n",
    "\n",
    "llm = ChatGroq(\n",
    "    model=\"llama3-70b-8192\",  # or \n",
    "    api_key=\"\"\n",
    ")\n"
   ]
  },
  {
   "cell_type": "code",
   "execution_count": 14,
   "id": "cbdcf69a",
   "metadata": {},
   "outputs": [],
   "source": [
    "#Define chatbot node\n",
    "def chatbot_node(state):\n",
    "\n",
    "    # Add system prompt only once at beginning\n",
    "    system_prompt = SystemMessage(content=\"You are a Math tutor chatbot.\")\n",
    "    messages = [system_prompt] + state[\"messages\"]\n",
    "\n",
    "    # LLM call\n",
    "    response = llm.invoke(messages)\n",
    "\n",
    "    # Add response to message history\n",
    "    state[\"messages\"].append(response)\n",
    "    return state\n"
   ]
  },
  {
   "cell_type": "code",
   "execution_count": 15,
   "id": "b8df2110",
   "metadata": {},
   "outputs": [],
   "source": [
    "#Define output node\n",
    "def output_node(state):\n",
    "    response = state[\"messages\"][-1].content\n",
    "    print(\"Bot:\", response)\n",
    "    return state"
   ]
  },
  {
   "cell_type": "code",
   "execution_count": 16,
   "id": "2044d9c6",
   "metadata": {},
   "outputs": [
    {
     "data": {
      "text/plain": [
       "<langgraph.graph.state.StateGraph at 0x24b78483890>"
      ]
     },
     "execution_count": 16,
     "metadata": {},
     "output_type": "execute_result"
    }
   ],
   "source": [
    "#Build LangGraph\n",
    "graph = StateGraph(ChatState)\n",
    "graph.add_node(\"input\", input_node)\n",
    "graph.add_node(\"chatbot\", chatbot_node)\n",
    "graph.add_node(\"output\", output_node)\n",
    "\n",
    "graph.set_entry_point(\"input\")\n",
    "graph.add_edge(\"input\", \"chatbot\")\n",
    "graph.add_edge(\"chatbot\", \"output\")\n",
    "graph.add_edge(\"output\", END)\n"
   ]
  },
  {
   "cell_type": "code",
   "execution_count": 17,
   "id": "3e990184",
   "metadata": {},
   "outputs": [],
   "source": [
    "app = graph.compile()\n"
   ]
  },
  {
   "cell_type": "code",
   "execution_count": null,
   "id": "6ef55c92",
   "metadata": {},
   "outputs": [
    {
     "name": "stdout",
     "output_type": "stream",
     "text": [
      "Bot: Hey! I'm your math tutor chatbot! How can I help you with math today? Do you have a specific problem you're stuck on, or a concept you'd like to learn? Let me know and I'll do my best to assist you!\n",
      "Bot: That's an easy one!\n",
      "\n",
      "The answer is... 4!\n",
      "Bot: I'm happy to help! However, I think there might be a slight misunderstanding. As a math tutor chatbot, I'm here to assist with math-related questions and topics. Ear infections are a medical topic and not directly related to math.\n",
      "\n",
      "But, if you're curious, an ear infection, also known as otitis media, is a common condition that occurs when the middle ear becomes infected. It can cause symptoms such as ear pain, fever, and difficulty hearing. Ear infections are often caused by bacteria or viruses and can be treated with antibiotics or other medications.\n",
      "\n",
      "If you have any math-related questions or topics you'd like to discuss, I'm here to help!\n",
      "Bot: You're welcome! It seems like our conversation just started, though. Do you have any math questions or topics you'd like to discuss? I'm here to help with any math-related problems or concepts you're struggling with.\n"
     ]
    }
   ],
   "source": [
    "# Run chatbot\n",
    "while True:\n",
    "    user_input = input(\"You: \")\n",
    "    if user_input.lower() in [\"exit\", \"quit\"]:\n",
    "        break\n",
    "\n",
    "    state = {\"messages\": [HumanMessage(content=user_input)]}\n",
    "    app.invoke(state)\n"
   ]
  },
  {
   "cell_type": "code",
   "execution_count": null,
   "id": "fc026b2c",
   "metadata": {},
   "outputs": [],
   "source": []
  }
 ],
 "metadata": {
  "kernelspec": {
   "display_name": ".venv",
   "language": "python",
   "name": "python3"
  },
  "language_info": {
   "codemirror_mode": {
    "name": "ipython",
    "version": 3
   },
   "file_extension": ".py",
   "mimetype": "text/x-python",
   "name": "python",
   "nbconvert_exporter": "python",
   "pygments_lexer": "ipython3",
   "version": "3.11.0"
  }
 },
 "nbformat": 4,
 "nbformat_minor": 5
}
