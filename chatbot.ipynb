{
 "cells": [
  {
   "cell_type": "code",
   "execution_count": 1,
   "id": "4b9c6b9f",
   "metadata": {},
   "outputs": [],
   "source": [
    "from langgraph.graph import StateGraph, END\n",
    "from langchain_core.messages import HumanMessage, SystemMessage, AIMessage\n",
    "from langchain_openai import ChatOpenAI \n",
    "from typing import TypedDict, List"
   ]
  },
  {
   "cell_type": "code",
   "execution_count": 2,
   "id": "654539f7",
   "metadata": {},
   "outputs": [],
   "source": [
    "\n",
    "# ✅ Define the state schema\n",
    "class ChatState(TypedDict):\n",
    "    messages: List  # list of HumanMessage, SystemMessage, AIMessage"
   ]
  },
  {
   "cell_type": "code",
   "execution_count": 3,
   "id": "aa993f60",
   "metadata": {},
   "outputs": [],
   "source": [
    "# 1. Define user input node\n",
    "def input_node(state):\n",
    "    return state\n"
   ]
  },
  {
   "cell_type": "code",
   "execution_count": null,
   "id": "a403a778",
   "metadata": {},
   "outputs": [],
   "source": [
    "from langchain_groq import ChatGroq\n",
    "\n",
    "llm = ChatGroq(\n",
    "    model=\"llama3-70b-8192\",  # or \n",
    "    api_key=\"\"\n",
    ")\n"
   ]
  },
  {
   "cell_type": "code",
   "execution_count": 5,
   "id": "cbdcf69a",
   "metadata": {},
   "outputs": [],
   "source": [
    "# 2. Define chatbot node\n",
    "def chatbot_node(state):\n",
    "\n",
    "    # Add system prompt only once at beginning\n",
    "    system_prompt = SystemMessage(content=\"You are a Math tutor chatbot.\")\n",
    "    messages = [system_prompt] + state[\"messages\"]\n",
    "\n",
    "    # LLM call\n",
    "    response = llm.invoke(messages)\n",
    "\n",
    "    # Add response to message history\n",
    "    state[\"messages\"].append(response)\n",
    "    return state\n"
   ]
  },
  {
   "cell_type": "code",
   "execution_count": 6,
   "id": "b8df2110",
   "metadata": {},
   "outputs": [],
   "source": [
    "# 3. Define output node\n",
    "def output_node(state):\n",
    "    response = state[\"messages\"][-1].content\n",
    "    print(\"Bot:\", response)\n",
    "    return state"
   ]
  },
  {
   "cell_type": "code",
   "execution_count": 7,
   "id": "2044d9c6",
   "metadata": {},
   "outputs": [
    {
     "data": {
      "text/plain": [
       "<langgraph.graph.state.StateGraph at 0x267475ef1d0>"
      ]
     },
     "execution_count": 7,
     "metadata": {},
     "output_type": "execute_result"
    }
   ],
   "source": [
    "# Build LangGraph\n",
    "graph = StateGraph(ChatState)\n",
    "graph.add_node(\"input\", input_node)\n",
    "graph.add_node(\"chatbot\", chatbot_node)\n",
    "graph.add_node(\"output\", output_node)\n",
    "\n",
    "graph.set_entry_point(\"input\")\n",
    "graph.add_edge(\"input\", \"chatbot\")\n",
    "graph.add_edge(\"chatbot\", \"output\")\n",
    "graph.add_edge(\"output\", END)\n"
   ]
  },
  {
   "cell_type": "code",
   "execution_count": 8,
   "id": "3e990184",
   "metadata": {},
   "outputs": [],
   "source": [
    "app = graph.compile()\n"
   ]
  },
  {
   "cell_type": "code",
   "execution_count": null,
   "id": "6ef55c92",
   "metadata": {},
   "outputs": [
    {
     "name": "stdout",
     "output_type": "stream",
     "text": [
      "Bot: Hey! What's up? Need help with some math homework or just want to chat about numbers? I'm here to assist you with any math-related questions or problems you're stuck on!\n",
      "Bot: Hello! I'm a math tutor chatbot, here to help you with any math-related questions or problems you'd like to tackle. What kind of math are you working on? Do you have a specific topic in mind, such as algebra, geometry, or calculus? Or do you have a particular problem you're stuck on? Let me know and I'll do my best to assist you!\n",
      "Bot: Hello! I'm your math tutor chatbot. I'm here to help you with any math problems or concepts you're struggling with. What topic would you like to work on today? Do you have a specific question or assignment you'd like help with?\n",
      "Bot: Hello! I'm your Math tutor chatbot. What kind of math do you need help with today? Do you have a specific problem or topic you're struggling with, or would you like me to suggest some areas we could work on?\n",
      "Bot: Hello! I'm your math tutor chatbot. I'm here to help you with any math-related questions or problems you're struggling with. What topic or subject would you like to discuss or need help with?\n",
      "Bot: Hello! I'm happy to help with any math-related questions or problems you'd like to work on. What topic are you struggling with or would like to explore? Do you have a specific homework problem you're stuck on, or would you like me to suggest some exercises to get us started?\n"
     ]
    }
   ],
   "source": [
    "# Run chatbot\n",
    "while True:\n",
    "    user_input = input(\"You: \")\n",
    "    if user_input.lower() in [\"exit\", \"quit\"]:\n",
    "        break\n",
    "\n",
    "    state = {\"messages\": [HumanMessage(content=user_input)]}\n",
    "    app.invoke(state)\n"
   ]
  },
  {
   "cell_type": "code",
   "execution_count": null,
   "id": "fc026b2c",
   "metadata": {},
   "outputs": [],
   "source": []
  }
 ],
 "metadata": {
  "kernelspec": {
   "display_name": ".venv",
   "language": "python",
   "name": "python3"
  },
  "language_info": {
   "codemirror_mode": {
    "name": "ipython",
    "version": 3
   },
   "file_extension": ".py",
   "mimetype": "text/x-python",
   "name": "python",
   "nbconvert_exporter": "python",
   "pygments_lexer": "ipython3",
   "version": "3.11.0"
  }
 },
 "nbformat": 4,
 "nbformat_minor": 5
}
